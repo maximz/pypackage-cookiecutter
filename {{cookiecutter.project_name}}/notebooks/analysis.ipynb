{
 "cells": [
  {
   "cell_type": "code",
   "execution_count": null,
   "id": "b828625c",
   "metadata": {},
   "outputs": [],
   "source": []
  },
  {
   "cell_type": "markdown",
   "id": "27764f0a",
   "metadata": {},
   "source": [
    "# Analysis"
   ]
  },
  {
   "cell_type": "code",
   "execution_count": null,
   "id": "92140ea7",
   "metadata": {},
   "outputs": [],
   "source": [
    "from {{ cookiecutter.package_name }} import config"
   ]
  },
  {
   "cell_type": "code",
   "execution_count": null,
   "id": "bb641373",
   "metadata": {},
   "outputs": [],
   "source": [
    "print(config.paths)"
   ]
  },
  {
   "cell_type": "code",
   "execution_count": null,
   "id": "b281f6d8",
   "metadata": {},
   "outputs": [],
   "source": []
  }
 ],
 "metadata": {
  "jupytext": {
   "cell_metadata_filter": "-all",
   "encoding": "# -*- coding: utf-8 -*-",
   "main_language": "python",
   "notebook_metadata_filter": "-all"
  },
  "language_info": {
   "name": "python"
  }
 },
 "nbformat": 4,
 "nbformat_minor": 5
}
